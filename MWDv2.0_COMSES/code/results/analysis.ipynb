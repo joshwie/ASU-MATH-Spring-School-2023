{
 "cells": [
  {
   "cell_type": "code",
   "execution_count": null,
   "id": "09b90591",
   "metadata": {},
   "outputs": [],
   "source": [
    "#for Data Frame\n",
    "import pandas as pd\n",
    "#For plotting\n",
    "import matplotlib.pyplot as plt\n",
    "import seaborn as sns"
   ]
  },
  {
   "cell_type": "code",
   "execution_count": null,
   "id": "c99f07a8",
   "metadata": {},
   "outputs": [],
   "source": [
    "df_base_Scenario = pd.read_csv('series_Basic_Scenario_1000ts.csv')\n",
    "df_bimodal_dist = pd.read_csv('series_Bimodal_dist_alpha_1000ts.csv')"
   ]
  },
  {
   "cell_type": "code",
   "execution_count": null,
   "id": "547a813f",
   "metadata": {},
   "outputs": [],
   "source": [
    "#Extract values we want to plot from base Scenario\",\n",
    "S_M = df_base_Scenario['S_M']\n",
    "S_D = df_base_Scenario['S_D']\n",
    "S_S = df_base_Scenario['S_S']\n",
    "wage_BS = df_base_Scenario['omega']\n",
    "price_BS = df_base_Scenario['p']\n",
    "profit_BS = df_base_Scenario['pi']\n",
    "w_p_ratio_BS = wage_BS/price_BS\n",
    "sugar_difference_BS = S_D- S_S"
   ]
  },
  {
   "cell_type": "code",
   "execution_count": null,
   "id": "9e3a0a24",
   "metadata": {},
   "outputs": [],
   "source": [
    "#Extract values we want to plot from bimoda distribution scenario \",\n",
    "S_M_bi = df_bimodal_dist['S_M']\n",
    "S_D_bi = df_bimodal_dist['S_D']\n",
    "S_S_bi = df_bimodal_dist['S_S']\n",
    "wage_bi = df_bimodal_dist['omega']\n",
    "price_bi = df_bimodal_dist['p']\n",
    "profit_bi = df_base_Scenario['pi']\n",
    "w_p_ratio_bi = wage_bi/price_bi\n",
    "sugar_difference_bi = S_D_bi - S_S_bi"
   ]
  },
  {
   "cell_type": "code",
   "execution_count": null,
   "id": "e402b144",
   "metadata": {
    "scrolled": false
   },
   "outputs": [],
   "source": [
    "df_full_BS = df_base_Scenario.assign(w_p_ratio = w_p_ratio_BS, sugar_difference = sugar_difference_BS )\n",
    "df_full_bi = df_bimodal_dist.assign(w_p_ratio = w_p_ratio_bi, sugar_difference = sugar_difference_bi )\n",
    "#print(df_full_BS)"
   ]
  },
  {
   "cell_type": "code",
   "execution_count": null,
   "id": "472cd9d7",
   "metadata": {},
   "outputs": [],
   "source": [
    "#----- Base Scenario --------\n",
    "fig = sns.relplot(data=df_full_BS, x=\"step\", y='S_M' ,\n",
    "            kind=\"line\",  hue=\"run\")\n",
    "fig.set(ylabel ='Market sugar')\n",
    "\n",
    "plt.show()"
   ]
  },
  {
   "cell_type": "code",
   "execution_count": null,
   "id": "ae8e6fe3",
   "metadata": {},
   "outputs": [],
   "source": [
    "#----- Alpha bimodal dist. --------\n",
    "\n",
    "fig = sns.relplot(data=df_bimodal_dist, x=\"step\", y='S_M' ,\n",
    "            kind=\"line\",  hue=\"run\",)\n",
    "fig.set(ylabel='Market sugar')\n",
    "\n",
    "\n",
    "plt.show()"
   ]
  },
  {
   "cell_type": "code",
   "execution_count": null,
   "id": "2110497b",
   "metadata": {},
   "outputs": [],
   "source": [
    "fig = sns.relplot(data=df_full_BS, x=\"step\", y='w_p_ratio' , \n",
    "            kind=\"line\")\n",
    "fig.set(ylabel=r'w/p')\n",
    "\n",
    "plt.show()"
   ]
  },
  {
   "cell_type": "code",
   "execution_count": null,
   "id": "f8cbd905",
   "metadata": {},
   "outputs": [],
   "source": [
    "fig = sns.relplot(data=df_full_BS, x=\"step\", y='sugar_difference' , \n",
    "            kind=\"line\")\n",
    "fig.set(ylabel=r'$S_D- S_S$')\n",
    "\n",
    "plt.show()"
   ]
  },
  {
   "cell_type": "code",
   "execution_count": null,
   "id": "d527213e",
   "metadata": {},
   "outputs": [],
   "source": [
    "fig = sns.relplot(data=df_bimodal_dist, x=\"step\", y='gamma' ,\n",
    "            kind=\"line\")\n",
    "fig.set(ylabel='gamma')"
   ]
  },
  {
   "cell_type": "code",
   "execution_count": null,
   "id": "94340069",
   "metadata": {},
   "outputs": [],
   "source": []
  }
 ],
 "metadata": {
  "kernelspec": {
   "display_name": "Python 3",
   "language": "python",
   "name": "python3"
  },
  "language_info": {
   "codemirror_mode": {
    "name": "ipython",
    "version": 3
   },
   "file_extension": ".py",
   "mimetype": "text/x-python",
   "name": "python",
   "nbconvert_exporter": "python",
   "pygments_lexer": "ipython3",
   "version": "3.8.8"
  }
 },
 "nbformat": 4,
 "nbformat_minor": 5
}
